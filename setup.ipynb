{
 "cells": [
  {
   "cell_type": "code",
   "execution_count": null,
   "metadata": {},
   "outputs": [],
   "source": [
    "# Copyright (c) 2018, Dan Sheffner Digital Imaging Software Solutions, INC\n",
    "# All rights reserved.\n",
    "#\n",
    "# Permission is hereby granted, free of charge, to any person obtaining a\n",
    "# copy of this software and associated documentation files (the\n",
    "# \"Software\"), to deal in the Software without restriction, including\n",
    "# without limitation the rights to use, copy, modify, merge, publish, dis-\n",
    "# tribute, sublicense, and/or sell copies of the Software, and to permit\n",
    "# persons to whom the Software is furnished to do so, subject to the fol-\n",
    "# lowing conditions:\n",
    "#\n",
    "# The above copyright notice and this permission notice shall be included\n",
    "# in all copies or substantial portions of the Software.\n",
    "#\n",
    "# THE SOFTWARE IS PROVIDED \"AS IS\", WITHOUT WARRANTY OF ANY KIND, EXPRESS\n",
    "# OR IMPLIED, INCLUDING BUT NOT LIMITED TO THE WARRANTIES OF MERCHANTABIL-\n",
    "# ITY, FITNESS FOR A PARTICULAR PURPOSE AND NONINFRINGEMENT. IN NO EVENT\n",
    "# SHALL THE AUTHOR BE LIABLE FOR ANY CLAIM, DAMAGES OR OTHER LIABILITY,\n",
    "# WHETHER IN AN ACTION OF CONTRACT, TORT OR OTHERWISE, ARISING FROM,\n",
    "# OUT OF OR IN CONNECTION WITH THE SOFTWARE OR THE USE OR OTHER DEALINGS\n",
    "# IN THE SOFTWARE."
   ]
  },
  {
   "cell_type": "code",
   "execution_count": null,
   "metadata": {},
   "outputs": [],
   "source": [
    "!pip install psycopg2-binary sqlalchemy"
   ]
  },
  {
   "cell_type": "code",
   "execution_count": null,
   "metadata": {},
   "outputs": [],
   "source": [
    "# create the database\n",
    "\n",
    "\n",
    "from sqlalchemy import create_engine\n",
    "engine = create_engine(\"postgresql+psycopg2://postgres:toor@db\")\n",
    "\n",
    "conn = engine.connect()\n",
    "conn.execute(\"commit\")\n",
    "conn.execute(\"create database db1\")\n",
    "conn.close()"
   ]
  },
  {
   "cell_type": "code",
   "execution_count": 15,
   "metadata": {},
   "outputs": [
    {
     "name": "stdout",
     "output_type": "stream",
     "text": [
      "finished insert\n"
     ]
    }
   ],
   "source": [
    "from sqlalchemy import create_engine\n",
    "from sqlalchemy.ext.declarative import declarative_base\n",
    "from sqlalchemy.orm import sessionmaker\n",
    "from sqlalchemy import Column, Integer, String\n",
    "\n",
    "# experiemental batch mode\n",
    "# create_engine(\"postgresql+psycopg2://postgres:toor@/db1\", use_batch_mode=True)\n",
    "engine = create_engine(\"postgresql+psycopg2://postgres:toor@db/db1\")\n",
    "\n",
    "# other config\n",
    "Base = declarative_base()\n",
    "Session = sessionmaker(bind=engine)\n",
    "session = Session()\n",
    "\n",
    "# User class\n",
    "Base = declarative_base()\n",
    "class User(Base):\n",
    "  \n",
    "  __tablename__ = 'users'\n",
    "  id = Column(Integer, primary_key=True)\n",
    "  name = Column(String)\n",
    "  fullname = Column(String)\n",
    "  password = Column(String)\n",
    "    \n",
    "  def __repr__(self):\n",
    "      return \"<User(name='%s', fullname='%s', password='%s')>\" % (\n",
    "              self.name, self.fullname, self.password)\n",
    "    \n",
    "# create all tables\n",
    "Base.metadata.create_all(engine)\n",
    "\n",
    "# create a new user    \n",
    "user1 = User(name='ed', fullname='Ed Jones', password='blablabla')\n",
    "user2 = User(name='Dan', fullname='Dan Sheffner', password='blabla')\n",
    "user3 = User(name='Dan', fullname='Dan Jones', password='blabla')\n",
    "\n",
    "\n",
    "session.add(user1)\n",
    "session.add(user2)\n",
    "session.add(user3)\n",
    "\n",
    "session.commit()\n",
    "\n",
    "# query db\n",
    "#our_user1 = session.query(User).filter_by(name='ed').first() \n",
    "# our_user2 = session.query(User).filter_by(name='Dan').first() \n",
    "#print (our_user1.password)\n",
    "print (\"finished insert\")"
   ]
  },
  {
   "cell_type": "code",
   "execution_count": 11,
   "metadata": {},
   "outputs": [
    {
     "name": "stdout",
     "output_type": "stream",
     "text": [
      "1 ed Ed Jones\n",
      "2 Dan Dan Sheffner\n",
      "3 Dan Dan Jones\n"
     ]
    }
   ],
   "source": [
    "from sqlalchemy import create_engine\n",
    "from sqlalchemy.ext.declarative import declarative_base\n",
    "from sqlalchemy.orm import sessionmaker\n",
    "from sqlalchemy import Column, Integer, String\n",
    "\n",
    "# experiemental batch mode\n",
    "# create_engine(\"postgresql+psycopg2://postgres:toor@/db1\", use_batch_mode=True)\n",
    "engine = create_engine(\"postgresql+psycopg2://postgres:toor@db/db1\")\n",
    "\n",
    "# other config\n",
    "Base = declarative_base()\n",
    "Session = sessionmaker(bind=engine, autocommit=True)\n",
    "session = Session()\n",
    "\n",
    "# User class\n",
    "Base = declarative_base()\n",
    "class User(Base):\n",
    "  \n",
    "  __tablename__ = 'users'\n",
    "  id = Column(Integer, primary_key=True)\n",
    "  name = Column(String)\n",
    "  fullname = Column(String)\n",
    "  password = Column(String)\n",
    "    \n",
    "  def __repr__(self):\n",
    "      return \"<User(name='%s', fullname='%s', password='%s')>\" % (\n",
    "              self.name, self.fullname, self.password)\n",
    "\n",
    "# query db\n",
    "for row in session.query(User, User.id, User.name, User.fullname).all():\n",
    "  print(str(row.id), row.name, row.fullname)"
   ]
  },
  {
   "cell_type": "code",
   "execution_count": 18,
   "metadata": {},
   "outputs": [
    {
     "name": "stdout",
     "output_type": "stream",
     "text": [
      "1 ed Ed Jones\n",
      "2 Dan Dan Sheffner\n",
      "3 Dan Dan Jones\n",
      "4 ed Ed Jones\n",
      "5 Dan Dan Sheffner\n",
      "6 Dan Dan Jones\n",
      "\n",
      "2 Dan Dan Sheffner\n",
      "3 Dan Dan Jones\n",
      "5 Dan Dan Sheffner\n",
      "6 Dan Dan Jones\n"
     ]
    }
   ],
   "source": [
    "from sqlalchemy import create_engine\n",
    "\n",
    "engine = create_engine(\"postgresql+psycopg2://postgres:toor@db/db1\")\n",
    "\n",
    "Session = sessionmaker(bind=engine, autocommit=True)\n",
    "session = Session()\n",
    "\n",
    "# query db. Equivalent to select * from table\n",
    "for row in session.query(User, User.id, User.name, User.fullname).all():\n",
    "  print(str(row.id), row.name, row.fullname)\n",
    "\n",
    "print ()\n",
    "\n",
    "# query db using filter.  Equivalent to where SQL clause \n",
    "for row in session.query(User, User.id, User.name, User.fullname).filter(User.name==\"Dan\"):\n",
    "  print(str(row.id), row.name, row.fullname)"
   ]
  },
  {
   "cell_type": "code",
   "execution_count": null,
   "metadata": {},
   "outputs": [],
   "source": []
  }
 ],
 "metadata": {
  "kernelspec": {
   "display_name": "Python 3",
   "language": "python",
   "name": "python3"
  },
  "language_info": {
   "codemirror_mode": {
    "name": "ipython",
    "version": 3
   },
   "file_extension": ".py",
   "mimetype": "text/x-python",
   "name": "python",
   "nbconvert_exporter": "python",
   "pygments_lexer": "ipython3",
   "version": "3.6.3"
  }
 },
 "nbformat": 4,
 "nbformat_minor": 2
}
